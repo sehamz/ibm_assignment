{
 "cells": [
  {
   "cell_type": "markdown",
   "id": "20363582-6e72-4277-b7b7-5e2f1d894298",
   "metadata": {},
   "source": [
    "# My Jupyter Notebook on IBM Watson Studio"
   ]
  },
  {
   "cell_type": "markdown",
   "id": "1545d696-4eff-49c5-9d91-0eabe20c3ec1",
   "metadata": {},
   "source": [
    "**Seham Alzahrani**\n",
    "\n",
    "Data Scientist"
   ]
  },
  {
   "cell_type": "markdown",
   "id": "9614b450-8f70-4882-bf1c-41af039e2c65",
   "metadata": {},
   "source": [
    "*I am interested in Data Science field due to the importance of data to improve our experiences in the life.*"
   ]
  },
  {
   "cell_type": "markdown",
   "id": "7b7a718f-04b1-434d-8f98-680f91f8d343",
   "metadata": {},
   "source": [
    "### This line of code should print the summation of 1+1 which is 2"
   ]
  },
  {
   "cell_type": "code",
   "execution_count": 2,
   "id": "38d31c13-bdf7-4f4d-b52e-2ad399462630",
   "metadata": {},
   "outputs": [
    {
     "name": "stdout",
     "output_type": "stream",
     "text": [
      "2\n"
     ]
    }
   ],
   "source": [
    "print(1+1)"
   ]
  },
  {
   "cell_type": "markdown",
   "id": "f5f8dd3c-9ca7-47d0-8142-5c6855a76c80",
   "metadata": {},
   "source": [
    "**horizontal rule:**\n",
    "***\n",
    "**bulleted list:**\n",
    "- point1\n",
    "- point2\n",
    "\n",
    "**numbered list:** \n",
    "1. point1\n",
    "2. point2\n",
    "\n",
    "**External hyperlink:**\n",
    "__[Google](http://www.google.com)__"
   ]
  }
 ],
 "metadata": {
  "kernelspec": {
   "display_name": "Python 3 (ipykernel)",
   "language": "python",
   "name": "python3"
  },
  "language_info": {
   "codemirror_mode": {
    "name": "ipython",
    "version": 3
   },
   "file_extension": ".py",
   "mimetype": "text/x-python",
   "name": "python",
   "nbconvert_exporter": "python",
   "pygments_lexer": "ipython3",
   "version": "3.7.1"
  }
 },
 "nbformat": 4,
 "nbformat_minor": 5
}
